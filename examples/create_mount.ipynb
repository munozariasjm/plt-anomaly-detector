{
 "cells": [
  {
   "cell_type": "code",
   "execution_count": 1,
   "metadata": {},
   "outputs": [],
   "source": [
    "import sys\n",
    "sys.path.append(\"..\")"
   ]
  },
  {
   "cell_type": "code",
   "execution_count": 2,
   "metadata": {},
   "outputs": [],
   "source": [
    "from src.data.mounting_tool import MountData"
   ]
  },
  {
   "cell_type": "code",
   "execution_count": 3,
   "metadata": {},
   "outputs": [],
   "source": [
    "with open('../secrets.json', \"r\") as f:\n",
    "    config = json.load(f)\n",
    "mounter = MountData(user=\"jmunozar\", password=config[\"pass\"])"
   ]
  },
  {
   "cell_type": "code",
   "execution_count": 4,
   "metadata": {},
   "outputs": [
    {
     "name": "stdout",
     "output_type": "stream",
     "text": [
      "Mount target is not a directory. Creating it...\n"
     ]
    }
   ],
   "source": [
    "mounter.create_mount(mount_source=\"brildev1:/brildata/22/\", mount_target=\"./Files/22\")"
   ]
  }
 ],
 "metadata": {
  "kernelspec": {
   "display_name": "Python 3.9.12 ('ExplrerBrildata-rs8L4tfn')",
   "language": "python",
   "name": "python3"
  },
  "language_info": {
   "codemirror_mode": {
    "name": "ipython",
    "version": 3
   },
   "file_extension": ".py",
   "mimetype": "text/x-python",
   "name": "python",
   "nbconvert_exporter": "python",
   "pygments_lexer": "ipython3",
   "version": "3.9.12"
  },
  "orig_nbformat": 4,
  "vscode": {
   "interpreter": {
    "hash": "2aa283de9147d4fb1243955fddb5ce7838e1795e475e966ee3d0f53e28ebe334"
   }
  }
 },
 "nbformat": 4,
 "nbformat_minor": 2
}
