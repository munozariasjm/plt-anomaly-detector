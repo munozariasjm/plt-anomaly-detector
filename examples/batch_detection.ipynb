{
 "cells": [
  {
   "cell_type": "markdown",
   "metadata": {},
   "source": [
    "# Automatic anomaly detection using the Brildata model "
   ]
  },
  {
   "cell_type": "markdown",
   "metadata": {},
   "source": [
    "Lets begin by importing our packages and loading our data."
   ]
  },
  {
   "cell_type": "code",
   "execution_count": 1,
   "metadata": {},
   "outputs": [],
   "source": [
    "import sys\n",
    "sys.path.append(\"..\")\n",
    "import warnings\n",
    "import json\n",
    "warnings.filterwarnings(\"ignore\")"
   ]
  },
  {
   "cell_type": "code",
   "execution_count": 2,
   "metadata": {},
   "outputs": [],
   "source": [
    "from src.model.searcher import AnomalySearcher\n",
    "from src.data.mounting_tool import MountData"
   ]
  },
  {
   "cell_type": "markdown",
   "metadata": {},
   "source": [
    "### Importing and cleaning the data\n",
    "\n",
    "In setmount we have a little script to create the mount to the dessired data.\n",
    "Modify the bash script to make it work for your computing account and cmsusr\n"
   ]
  },
  {
   "cell_type": "code",
   "execution_count": 3,
   "metadata": {},
   "outputs": [],
   "source": [
    "MOUNT_TARGET = \"/afs/cern.ch/user/j/jmunozar/private/InProcess/plt/mounts/h5s/\""
   ]
  },
  {
   "cell_type": "code",
   "execution_count": 4,
   "metadata": {},
   "outputs": [
    {
     "name": "stderr",
     "output_type": "stream",
     "text": [
      "fuse: mountpoint is not empty\n",
      "fuse: if you are sure this is safe, use the 'nonempty' mount option\n"
     ]
    }
   ],
   "source": [
    "with open('../secrets.json', \"r\") as f:\n",
    "    config = json.load(f)\n",
    "mounter = MountData(user=\"jmunozar\", password=config[\"pass\"])\n",
    "mounter.create_mount(mount_source=\"brildev1:/brildata/22/\", \n",
    "                     mount_target=MOUNT_TARGET)"
   ]
  },
  {
   "cell_type": "markdown",
   "metadata": {},
   "source": [
    "### Running for all files"
   ]
  },
  {
   "cell_type": "code",
   "execution_count": 5,
   "metadata": {},
   "outputs": [],
   "source": [
    "dessired_fills = [\n",
    "    7652,\n",
    "    7663,\n",
    "    7670,\n",
    "    7679,\n",
    "    7690,\n",
    "    7692,\n",
    "    7694,\n",
    "    7697,\n",
    "    7698,\n",
    "    7699,\n",
    "    7725,\n",
    "    7733,\n",
    "    7816,\n",
    "    7856,\n",
    "    7876,\n",
    "    7886,\n",
    "    7895,\n",
    "    7908,\n",
    "    7915,\n",
    "    7920,\n",
    "    7921,\n",
    "]"
   ]
  },
  {
   "cell_type": "code",
   "execution_count": 6,
   "metadata": {},
   "outputs": [
    {
     "data": {
      "application/vnd.jupyter.widget-view+json": {
       "model_id": "bf13a74e34e9449688db3ad5b46c09c0",
       "version_major": 2,
       "version_minor": 0
      },
      "text/plain": [
       "  0%|          | 0/732 [00:00<?, ?it/s]"
      ]
     },
     "metadata": {},
     "output_type": "display_data"
    }
   ],
   "source": [
    "if True:\n",
    "    AnomalySearcher().run_scan(\n",
    "        mount_path=MOUNT_TARGET,\n",
    "        output_path=f\"/afs/cern.ch/user/j/jmunozar/private/InProcess/anomalies_results\",\n",
    "        make_anomalous_plots=True,\n",
    "        overwrite=False,\n",
    "        progress_bar=True,\n",
    "    )"
   ]
  },
  {
   "cell_type": "code",
   "execution_count": null,
   "metadata": {},
   "outputs": [],
   "source": []
  }
 ],
 "metadata": {
  "kernelspec": {
   "display_name": "Python 3 (ipykernel)",
   "language": "python",
   "name": "python3"
  },
  "language_info": {
   "codemirror_mode": {
    "name": "ipython",
    "version": 3
   },
   "file_extension": ".py",
   "mimetype": "text/x-python",
   "name": "python",
   "nbconvert_exporter": "python",
   "pygments_lexer": "ipython3",
   "version": "3.9.12"
  },
  "orig_nbformat": 4,
  "vscode": {
   "interpreter": {
    "hash": "2aa283de9147d4fb1243955fddb5ce7838e1795e475e966ee3d0f53e28ebe334"
   }
  }
 },
 "nbformat": 4,
 "nbformat_minor": 2
}
