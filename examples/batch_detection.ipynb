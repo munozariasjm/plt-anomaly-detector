{
 "cells": [
  {
   "cell_type": "markdown",
   "metadata": {},
   "source": [
    "# Automatic anomaly detection using the Brildata model "
   ]
  },
  {
   "cell_type": "markdown",
   "metadata": {},
   "source": [
    "Lets begin by importing our packages and loading our data."
   ]
  },
  {
   "cell_type": "code",
   "execution_count": 1,
   "metadata": {},
   "outputs": [],
   "source": [
    "%load_ext autoreload\n",
    "%autoreload 2"
   ]
  },
  {
   "cell_type": "code",
   "execution_count": 2,
   "metadata": {},
   "outputs": [],
   "source": [
    "import sys\n",
    "sys.path.append(\"..\")\n",
    "import warnings\n",
    "import json\n",
    "warnings.filterwarnings(\"ignore\")"
   ]
  },
  {
   "cell_type": "code",
   "execution_count": 3,
   "metadata": {},
   "outputs": [],
   "source": [
    "from src.model.searcher import AnomalySearcher\n",
    "from src.data.mounting_tool import MountData"
   ]
  },
  {
   "cell_type": "markdown",
   "metadata": {},
   "source": [
    "### Importing and cleaning the data\n",
    "\n",
    "In setmount we have a little script to create the mount to the dessired data.\n",
    "Modify the bash script to make it work for your computing account and cmsusr\n"
   ]
  },
  {
   "cell_type": "code",
   "execution_count": 4,
   "metadata": {},
   "outputs": [],
   "source": [
    "MOUNT_TARGET = \"/afs/cern.ch/user/j/jmunozar/private/InProcess/plt/mounts/h5s/\""
   ]
  },
  {
   "cell_type": "code",
   "execution_count": 5,
   "metadata": {},
   "outputs": [
    {
     "name": "stderr",
     "output_type": "stream",
     "text": [
      "fuse: mountpoint is not empty\n",
      "fuse: if you are sure this is safe, use the 'nonempty' mount option\n"
     ]
    }
   ],
   "source": [
    "with open('../secrets.json', \"r\") as f:\n",
    "    config = json.load(f)\n",
    "mounter = MountData(user=\"jmunozar\", password=config[\"pass\"])\n",
    "mounter.create_mount(mount_source=\"brildev1:/brildata/22/\", \n",
    "                     mount_target=MOUNT_TARGET)"
   ]
  },
  {
   "cell_type": "markdown",
   "metadata": {},
   "source": [
    "### Running for all files"
   ]
  },
  {
   "cell_type": "code",
   "execution_count": 6,
   "metadata": {},
   "outputs": [],
   "source": [
    "dessired_fills = [8221, 8222, 8223, 8225, 8226, 8228, 8230, 8232, 8233, 8236, 8238, 8245, 8247, 8248, 8253, 8260, 8263, 8267, 8269, 8272, 8273, 8274, 8276,] #8289, 8293, 8295, 8297, 8299, 8301, 8302, 8304, 8305, 8306, 8307, 8309, 8311, 8312, 8313, 8314, 8315, 8316, 8317, 8319, 8320, 8321, 8322, 8324, 8327, 8330, 8331, 8333, 8334, 8335, 8342, 8345, 8347, 8379, 8381, 8383, 8385, 8387, 8389, 8392, 8395, 8398, 8399, 8401, 8402, 8412, 8413, 8456, 8471, 8474, 8479, 8484, 8489, 8491, 8496]\n",
    "selected_channels = [10, 11, 12, 13, 14, 15]"
   ]
  },
  {
   "cell_type": "code",
   "execution_count": 7,
   "metadata": {},
   "outputs": [
    {
     "name": "stdout",
     "output_type": "stream",
     "text": [
      "Data mount found\n",
      "Selected fills: ['8221', '8222', '8223', '8225', '8226', '8228', '8230', '8232', '8233', '8236', '8238', '8245', '8247', '8248', '8253', '8260', '8263', '8267', '8269', '8272', '8273', '8274', '8276']\n",
      "Overwrite:  False\n"
     ]
    },
    {
     "data": {
      "application/vnd.jupyter.widget-view+json": {
       "model_id": "6a18ead7a81d4d2a92aed306089cb696",
       "version_major": 2,
       "version_minor": 0
      },
      "text/plain": [
       "  0%|          | 0/23 [00:00<?, ?it/s]"
      ]
     },
     "metadata": {},
     "output_type": "display_data"
    },
    {
     "name": "stdout",
     "output_type": "stream",
     "text": [
      "Running pipeline...\n",
      "Found 2 runs for fill 8221\n",
      "Plotting...\n",
      "Running pipeline...\n",
      "Found 4 runs for fill 8222\n",
      "Plotting...\n",
      "Running pipeline...\n",
      "Found 3 runs for fill 8223\n",
      "Plotting...\n",
      "Running pipeline...\n",
      "Found 4 runs for fill 8225\n",
      "Plotting...\n",
      "Running pipeline...\n",
      "Found 3 runs for fill 8226\n",
      "Plotting...\n",
      "Running pipeline...\n",
      "Found 9 runs for fill 8228\n",
      "Plotting...\n",
      "Running pipeline...\n",
      "Found 6 runs for fill 8230\n",
      "Plotting...\n",
      "Running pipeline...\n",
      "Found 3 runs for fill 8232\n",
      "Plotting...\n",
      "Running pipeline...\n",
      "Found 18 runs for fill 8233\n",
      "Plotting...\n",
      "Running pipeline...\n",
      "Found 2 runs for fill 8236\n"
     ]
    }
   ],
   "source": [
    "if True:\n",
    "    AnomalySearcher().run_scan(\n",
    "        mount_path=MOUNT_TARGET,\n",
    "        selected_fills = dessired_fills,\n",
    "        output_path=f\"/afs/cern.ch/user/j/jmunozar/private/InProcess/filtered_stable_fills/anomalies\",\n",
    "        make_anomalous_plots=False,\n",
    "        overwrite=False,\n",
    "        progress_bar=True,\n",
    "        selected_channels = selected_channels,\n",
    "    )"
   ]
  },
  {
   "cell_type": "code",
   "execution_count": null,
   "metadata": {},
   "outputs": [],
   "source": []
  }
 ],
 "metadata": {
  "kernelspec": {
   "display_name": "Python 3.9.12 64-bit",
   "language": "python",
   "name": "python3"
  },
  "language_info": {
   "codemirror_mode": {
    "name": "ipython",
    "version": 3
   },
   "file_extension": ".py",
   "mimetype": "text/x-python",
   "name": "python",
   "nbconvert_exporter": "python",
   "pygments_lexer": "ipython3",
   "version": "3.9.12"
  },
  "orig_nbformat": 4,
  "vscode": {
   "interpreter": {
    "hash": "0c4643a9bde794cd5b1fb151f1487ee51af0e75811e08db3287769a273ef6a93"
   }
  }
 },
 "nbformat": 4,
 "nbformat_minor": 2
}
