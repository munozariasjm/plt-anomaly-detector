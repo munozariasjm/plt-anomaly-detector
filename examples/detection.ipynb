{
 "cells": [
  {
   "cell_type": "markdown",
   "metadata": {},
   "source": [
    "# Automatic anomaly detection using the Brildata model "
   ]
  },
  {
   "cell_type": "markdown",
   "metadata": {},
   "source": [
    "Lets begin by importing our packages and loading our data."
   ]
  },
  {
   "cell_type": "code",
   "execution_count": 13,
   "metadata": {},
   "outputs": [
    {
     "name": "stdout",
     "output_type": "stream",
     "text": [
      "The autoreload extension is already loaded. To reload it, use:\n",
      "  %reload_ext autoreload\n"
     ]
    }
   ],
   "source": [
    "%load_ext autoreload\n",
    "%autoreload 2"
   ]
  },
  {
   "cell_type": "code",
   "execution_count": 14,
   "metadata": {},
   "outputs": [],
   "source": [
    "import sys\n",
    "sys.path.append(\"..\")\n",
    "import warnings\n",
    "import json\n",
    "warnings.filterwarnings(\"ignore\")"
   ]
  },
  {
   "cell_type": "code",
   "execution_count": 15,
   "metadata": {},
   "outputs": [],
   "source": [
    "from src.model.searcher import AnomalySearcher\n",
    "from src.data.mounting_tool import MountData"
   ]
  },
  {
   "cell_type": "markdown",
   "metadata": {},
   "source": [
    "### Importing and cleaning the data\n",
    "\n",
    "In setmount we have a little script to create the mount to the dessired data.\n",
    "Modify the bash script to make it work for your computing account and cmsusr\n"
   ]
  },
  {
   "cell_type": "code",
   "execution_count": 16,
   "metadata": {},
   "outputs": [],
   "source": [
    "MOUNT_TARGET = \"/afs/cern.ch/user/j/jmunozar/private/InProcess/plt/mounts/h5s/\""
   ]
  },
  {
   "cell_type": "code",
   "execution_count": 17,
   "metadata": {},
   "outputs": [
    {
     "name": "stderr",
     "output_type": "stream",
     "text": [
      "fuse: mountpoint is not empty\n",
      "fuse: if you are sure this is safe, use the 'nonempty' mount option\n"
     ]
    }
   ],
   "source": [
    "with open('../secrets.json', \"r\") as f:\n",
    "    config = json.load(f)\n",
    "mounter = MountData(user=\"jmunozar\", password=config[\"pass\"])\n",
    "mounter.create_mount(mount_source=\"brildev1:/brildata/22/\", \n",
    "                     mount_target=MOUNT_TARGET)"
   ]
  },
  {
   "cell_type": "markdown",
   "metadata": {},
   "source": [
    "# Usage"
   ]
  },
  {
   "cell_type": "markdown",
   "metadata": {},
   "source": [
    "To create a anomaly detector, simply provide the `AnomalySearcher` class the path to where the brildata is mounted"
   ]
  },
  {
   "cell_type": "code",
   "execution_count": 18,
   "metadata": {},
   "outputs": [
    {
     "name": "stdout",
     "output_type": "stream",
     "text": [
      "Data mount found\n"
     ]
    }
   ],
   "source": [
    "anm_searcher = AnomalySearcher(MOUNT_TARGET)"
   ]
  },
  {
   "cell_type": "markdown",
   "metadata": {},
   "source": [
    "And now, lets select a Fill to analyze, this is direct:"
   ]
  },
  {
   "cell_type": "code",
   "execution_count": 19,
   "metadata": {},
   "outputs": [
    {
     "name": "stdout",
     "output_type": "stream",
     "text": [
      "Running pipeline...\n",
      "Found 4 runs for fill 7921\n",
      "Found 4 runs for fill 7921\n"
     ]
    }
   ],
   "source": [
    "FILL_N = 7921\n",
    "anomaly_dict = anm_searcher(FILL_N,\n",
    "                            return_preprocessed=True,\n",
    "                            generate_plots=True,\n",
    "                            save_path = f\"/afs/cern.ch/user/j/jmunozar/private/InProcess/anomalies_results\")"
   ]
  },
  {
   "cell_type": "code",
   "execution_count": 8,
   "metadata": {},
   "outputs": [
    {
     "data": {
      "text/plain": [
       "(                                     0         1         2         3   \\\n",
       " index                                                                   \n",
       " 2022-07-06 01:00:04.000000000  0.000015  0.000019  0.000011  0.000002   \n",
       " 2022-07-06 01:00:05.025583320  0.000015  0.000019  0.000011  0.000002   \n",
       " 2022-07-06 01:00:06.051166640  0.000015  0.000019  0.000011  0.000002   \n",
       " 2022-07-06 01:00:07.076749960  0.000015  0.000019  0.000011  0.000002   \n",
       " 2022-07-06 01:00:08.102333280  0.000015  0.000019  0.000011  0.000002   \n",
       " ...                                 ...       ...       ...       ...   \n",
       " 2022-07-06 12:00:45.872067960  0.000009  0.000012  0.000007  0.000002   \n",
       " 2022-07-06 12:00:46.897651280  0.000009  0.000012  0.000007  0.000002   \n",
       " 2022-07-06 12:00:47.923234600  0.000009  0.000012  0.000007  0.000002   \n",
       " 2022-07-06 12:00:48.948817920  0.000009  0.000012  0.000007  0.000002   \n",
       " 2022-07-06 12:00:49.974401240  0.000010  0.000012  0.000007  0.000002   \n",
       " \n",
       "                                      4         5         6         7   \\\n",
       " index                                                                   \n",
       " 2022-07-06 01:00:04.000000000  0.000020  0.000015  0.000008  0.000026   \n",
       " 2022-07-06 01:00:05.025583320  0.000020  0.000015  0.000008  0.000026   \n",
       " 2022-07-06 01:00:06.051166640  0.000020  0.000015  0.000008  0.000026   \n",
       " 2022-07-06 01:00:07.076749960  0.000020  0.000015  0.000008  0.000026   \n",
       " 2022-07-06 01:00:08.102333280  0.000020  0.000015  0.000008  0.000026   \n",
       " ...                                 ...       ...       ...       ...   \n",
       " 2022-07-06 12:00:45.872067960  0.000011  0.000007  0.000004  0.000014   \n",
       " 2022-07-06 12:00:46.897651280  0.000011  0.000007  0.000004  0.000014   \n",
       " 2022-07-06 12:00:47.923234600  0.000011  0.000007  0.000004  0.000014   \n",
       " 2022-07-06 12:00:48.948817920  0.000011  0.000007  0.000004  0.000014   \n",
       " 2022-07-06 12:00:49.974401240  0.000011  0.000008  0.000004  0.000014   \n",
       " \n",
       "                                      8         9         10        11  \\\n",
       " index                                                                   \n",
       " 2022-07-06 01:00:04.000000000  0.000001  0.000010  0.000016  0.000014   \n",
       " 2022-07-06 01:00:05.025583320  0.000001  0.000010  0.000016  0.000014   \n",
       " 2022-07-06 01:00:06.051166640  0.000001  0.000010  0.000016  0.000014   \n",
       " 2022-07-06 01:00:07.076749960  0.000001  0.000010  0.000016  0.000014   \n",
       " 2022-07-06 01:00:08.102333280  0.000001  0.000010  0.000016  0.000014   \n",
       " ...                                 ...       ...       ...       ...   \n",
       " 2022-07-06 12:00:45.872067960  0.000002  0.000006  0.000009  0.000008   \n",
       " 2022-07-06 12:00:46.897651280  0.000002  0.000006  0.000009  0.000008   \n",
       " 2022-07-06 12:00:47.923234600  0.000002  0.000006  0.000009  0.000008   \n",
       " 2022-07-06 12:00:48.948817920  0.000002  0.000006  0.000009  0.000008   \n",
       " 2022-07-06 12:00:49.974401240  0.000002  0.000006  0.000009  0.000008   \n",
       " \n",
       "                                      12        13        14        15  \n",
       " index                                                                  \n",
       " 2022-07-06 01:00:04.000000000  0.000009  0.000002  0.000005  0.000006  \n",
       " 2022-07-06 01:00:05.025583320  0.000009  0.000002  0.000005  0.000006  \n",
       " 2022-07-06 01:00:06.051166640  0.000009  0.000002  0.000005  0.000006  \n",
       " 2022-07-06 01:00:07.076749960  0.000009  0.000002  0.000005  0.000006  \n",
       " 2022-07-06 01:00:08.102333280  0.000009  0.000002  0.000005  0.000006  \n",
       " ...                                 ...       ...       ...       ...  \n",
       " 2022-07-06 12:00:45.872067960  0.000005  0.000001  0.000003  0.000003  \n",
       " 2022-07-06 12:00:46.897651280  0.000005  0.000001  0.000003  0.000003  \n",
       " 2022-07-06 12:00:47.923234600  0.000005  0.000001  0.000003  0.000003  \n",
       " 2022-07-06 12:00:48.948817920  0.000005  0.000001  0.000003  0.000003  \n",
       " 2022-07-06 12:00:49.974401240  0.000005  0.000001  0.000003  0.000003  \n",
       " \n",
       " [38658 rows x 16 columns],\n",
       " {0: {},\n",
       "  1: {},\n",
       "  2: {},\n",
       "  3: {},\n",
       "  4: {},\n",
       "  5: {},\n",
       "  6: {},\n",
       "  7: {},\n",
       "  8: {},\n",
       "  9: {},\n",
       "  10: {},\n",
       "  11: {},\n",
       "  12: {},\n",
       "  13: {},\n",
       "  14: {},\n",
       "  15: {}})"
      ]
     },
     "execution_count": 8,
     "metadata": {},
     "output_type": "execute_result"
    }
   ],
   "source": [
    "anomaly_dict"
   ]
  },
  {
   "cell_type": "markdown",
   "metadata": {},
   "source": [
    "That is it, the report was generated and stored in `save_path`."
   ]
  },
  {
   "cell_type": "markdown",
   "metadata": {},
   "source": [
    "### Running for all files"
   ]
  },
  {
   "cell_type": "code",
   "execution_count": null,
   "metadata": {},
   "outputs": [],
   "source": [
    "if False:\n",
    "    AnomalySearcher().run_scan(\n",
    "        mount_path=\"/afs/cern.ch/user/j/jmunozar/private/ProjectsSummer2022/Files/mnt22\",\n",
    "        output_path=\"/afs/cern.ch/user/j/jmunozar/private/ProjectsSummer2022/MeetingResults\",\n",
    "        make_anomalous_plots=True,\n",
    "        overwrite=False,\n",
    "        progress_bar=True,\n",
    "    )"
   ]
  },
  {
   "cell_type": "code",
   "execution_count": null,
   "metadata": {},
   "outputs": [],
   "source": []
  }
 ],
 "metadata": {
  "kernelspec": {
   "display_name": "Python 3 (ipykernel)",
   "language": "python",
   "name": "python3"
  },
  "language_info": {
   "codemirror_mode": {
    "name": "ipython",
    "version": 3
   },
   "file_extension": ".py",
   "mimetype": "text/x-python",
   "name": "python",
   "nbconvert_exporter": "python",
   "pygments_lexer": "ipython3",
   "version": "3.9.12"
  },
  "orig_nbformat": 4,
  "vscode": {
   "interpreter": {
    "hash": "2aa283de9147d4fb1243955fddb5ce7838e1795e475e966ee3d0f53e28ebe334"
   }
  }
 },
 "nbformat": 4,
 "nbformat_minor": 2
}
